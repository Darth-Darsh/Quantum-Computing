{
 "cells": [
  {
   "cell_type": "code",
   "execution_count": 1,
   "id": "ec25297c",
   "metadata": {},
   "outputs": [
    {
     "data": {
      "image/png": "[encoded data removed]",
      "text/plain": [
       "<Figure size 454.719x367.889 with 1 Axes>"
      ]
     },
     "execution_count": 1,
     "metadata": {},
     "output_type": "execute_result"
    }
   ],
   "source": [
    "from qiskit import QuantumCircuit\n",
    "\n",
    "def get_qc_for_n_qubit_GHZ_state(n):\n",
    "    qc=QuantumCircuit(n)\n",
    "    qc.h(0)\n",
    "    for i in range(n-1):\n",
    "        qc.cx(i, i+1)\n",
    "    return qc\n",
    "\n",
    "n = 4\n",
    "qc = get_qc_for_n_qubit_GHZ_state(n)\n",
    "qc.draw(output='mpl')"
   ]
  },
  {
   "cell_type": "code",
   "execution_count": null,
   "id": "d93bd260",
   "metadata": {},
   "outputs": [],
   "source": []
  },
  {
   "cell_type": "code",
   "execution_count": 49,
   "id": "50051122",
   "metadata": {},
   "outputs": [
    {
     "name": "stdout",
     "output_type": "stream",
     "text": [
      "['ZZI', 'ZIZ']\n",
      "2\n"
     ]
    }
   ],
   "source": [
    "from qiskit.quantum_info import SparsePauliOp\n",
    "\n",
    "operator_strings = ['Z'+ 'I'*i + 'Z' + 'I'*(n-i-2) for i in range(n-1)]\n",
    "print(operator_strings)\n",
    "print(len(operator_strings))\n",
    "\n",
    "operators = [SparsePauliOp(operator_string) for operator_string in operator_strings]"
   ]
  },
  {
   "cell_type": "code",
   "execution_count": 50,
   "id": "fb86a5a9",
   "metadata": {},
   "outputs": [
    {
     "name": "stderr",
     "output_type": "stream",
     "text": [
      "C:\\Users\\Dell\\AppData\\Local\\Temp\\ipykernel_22256\\2333000322.py:4: DeprecationWarning: The \"ibm_quantum\" channel option is deprecated and will be sunset on 1 July. After this date, \"ibm_cloud\", \"ibm_quantum_platform\", and \"local\" will be the only valid channels. Open Plan users should migrate now.  All other users should review the migration guide (https://quantum.cloud.ibm.com/docs/migration-guides/classic-iqp-to-cloud-iqp)to learn when to migrate.\n",
      "  service = QiskitRuntimeService(\n"
     ]
    },
    {
     "name": "stdout",
     "output_type": "stream",
     "text": [
      "[<IBMBackend('ibm_brisbane')>, <IBMBackend('ibm_sherbrooke')>]\n"
     ]
    }
   ],
   "source": [
    "from qiskit_ibm_runtime import QiskitRuntimeService\n",
    "\n",
    "# Set your instance (e.g., 'ibm-q/open/main' for free access)\n",
    "service = QiskitRuntimeService(\n",
    "    channel=\"ibm_quantum\",\n",
    "    token=\"0f66834006760c1b40ede93efc1c52d4824f24da9aab8e7fd28fa067412dc5ee384ebdaf18cf80b0915cff44c66c8c71a3e93154e8f32fc062065ae67ebb692e\",\n",
    "    instance=\"ibm-q/open/main\"  # ← Add this line\n",
    ")\n",
    "\n",
    "print(service.backends())  # Should now work without warnings"
   ]
  },
  {
   "cell_type": "code",
   "execution_count": 51,
   "id": "b3d26ab3",
   "metadata": {},
   "outputs": [],
   "source": [
    "QiskitRuntimeService.save_account(channel=\"ibm_quantum\", token='0f66834006760c1b40ede93efc1c52d4824f24da9aab8e7fd28fa067412dc5ee384ebdaf18cf80b0915cff44c66c8c71a3e93154e8f32fc062065ae67ebb692e', overwrite=True)"
   ]
  },
  {
   "cell_type": "code",
   "execution_count": 52,
   "id": "f78f3ed1",
   "metadata": {},
   "outputs": [],
   "source": [
    "backend = service.least_busy(operational=True, min_num_qubits=5)"
   ]
  },
  {
   "cell_type": "code",
   "execution_count": 53,
   "id": "7194e076",
   "metadata": {},
   "outputs": [
    {
     "name": "stdout",
     "output_type": "stream",
     "text": [
      "Name: ibm_brisbane\n",
      "Version: 2\n",
      "No. of qubits: 127\n",
      "\n"
     ]
    }
   ],
   "source": [
    "print(                                 # Displays the details of the selected backend\n",
    "    f\"Name: {backend.name}\\n\"\n",
    "    f\"Version: {backend.version}\\n\"\n",
    "    f\"No. of qubits: {backend.num_qubits}\\n\"\n",
    ")"
   ]
  },
  {
   "cell_type": "code",
   "execution_count": 54,
   "id": "0e737e16",
   "metadata": {},
   "outputs": [],
   "source": [
    "# First we have to transpile the quantum circuit \n",
    "from qiskit import transpile\n",
    "qc_compiled = transpile(qc, backend, optimization_level=2)"
   ]
  },
  {
   "cell_type": "code",
   "execution_count": 55,
   "id": "b7af4447",
   "metadata": {},
   "outputs": [
    {
     "data": {
      "image/png": "[encoded data removed]",
      "text/plain": [
       "<Figure size 757.83x284.278 with 1 Axes>"
      ]
     },
     "execution_count": 55,
     "metadata": {},
     "output_type": "execute_result"
    }
   ],
   "source": [
    "qc_compiled.draw('mpl')"
   ]
  },
  {
   "cell_type": "code",
   "execution_count": 56,
   "id": "4936ac8e",
   "metadata": {},
   "outputs": [
    {
     "ename": "AttributeError",
     "evalue": "'DataBin' object has no attribute 'c'",
     "output_type": "error",
     "traceback": [
      "\u001b[31m---------------------------------------------------------------------------\u001b[39m",
      "\u001b[31mAttributeError\u001b[39m                            Traceback (most recent call last)",
      "\u001b[36mCell\u001b[39m\u001b[36m \u001b[39m\u001b[32mIn[56]\u001b[39m\u001b[32m, line 8\u001b[39m\n\u001b[32m      6\u001b[39m result = job.result()\n\u001b[32m      7\u001b[39m pub_result = result[\u001b[32m0\u001b[39m]\n\u001b[32m----> \u001b[39m\u001b[32m8\u001b[39m \u001b[38;5;28mprint\u001b[39m(\u001b[43mpub_result\u001b[49m\u001b[43m.\u001b[49m\u001b[43mdata\u001b[49m\u001b[43m.\u001b[49m\u001b[43mc\u001b[49m.get_counts())\n",
      "\u001b[31mAttributeError\u001b[39m: 'DataBin' object has no attribute 'c'"
     ]
    }
   ],
   "source": [
    "from qiskit_ibm_runtime import Sampler\n",
    "\n",
    "sampler = Sampler(mode=backend)\n",
    "job = sampler.run([qc_compiled],shots=1024)  # shots define how many times the measurement made\n",
    "# Getting the results\n",
    "result = job.result()\n",
    "pub_result = result[0]\n",
    "print(pub_result.data.c.get_counts())"
   ]
  },
  {
   "cell_type": "code",
   "execution_count": 2,
   "id": "ff1be4bd",
   "metadata": {},
   "outputs": [
    {
     "name": "stdout",
     "output_type": "stream",
     "text": [
      "O =\n",
      " [[ 1  0  0  0]\n",
      " [ 0  1  0  0]\n",
      " [ 0  0  1  0]\n",
      " [ 0  0  0 -1]]\n"
     ]
    }
   ],
   "source": [
    "import numpy as np\n",
    "from qiskit import QuantumCircuit\n",
    "from qiskit.circuit.library import UnitaryGate\n",
    "\n",
    "# 1a) Build the 4×4 diagonal matrix\n",
    "O_mat = np.diag([1, 1, 1, -1])\n",
    "\n",
    "# 1b) Wrap as a UnitaryGate\n",
    "O_gate = UnitaryGate(O_mat, label=\"O\")\n",
    "\n",
    "# 1c) Check its action on the basis\n",
    "print(\"O =\\n\", O_mat)\n"
   ]
  },
  {
   "cell_type": "code",
   "execution_count": 7,
   "id": "2edbebc6",
   "metadata": {},
   "outputs": [
    {
     "name": "stdout",
     "output_type": "stream",
     "text": [
      "{'11': 53, '01': 47}\n",
      "Final amplitudes: [0.        +0.j 0.70710678+0.j 0.        +0.j 0.70710678+0.j]\n"
     ]
    },
    {
     "data": {
      "image/png": "[encoded data removed]",
      "text/plain": [
       "<Figure size 203.683x200.667 with 1 Axes>"
      ]
     },
     "execution_count": 7,
     "metadata": {},
     "output_type": "execute_result"
    }
   ],
   "source": [
    "from qiskit import QuantumCircuit, transpile\n",
    "from qiskit_aer import AerSimulator\n",
    "from qiskit.quantum_info import Statevector\n",
    "\n",
    "# -- build your circuit --\n",
    "qc = QuantumCircuit(2)\n",
    "qc.x(0)           # set input to |10>\n",
    "qc.h(1)           # some processing\n",
    "# qc.cx(0,1)      # more gates, ….\n",
    "\n",
    "# Option A: classical output\n",
    "qc_classical = qc.copy()\n",
    "qc_classical.measure_all()\n",
    "backend = AerSimulator()\n",
    "job     = backend.run(transpile(qc_classical, backend), shots=100)\n",
    "print(job.result().get_counts())\n",
    "\n",
    "# Option B: quantum output\n",
    "sv = Statevector.from_instruction(qc)\n",
    "print(\"Final amplitudes:\", sv.data)\n",
    "\n",
    "qc.draw('mpl')\n"
   ]
  },
  {
   "cell_type": "code",
   "execution_count": 29,
   "id": "fca248ac",
   "metadata": {},
   "outputs": [
    {
     "name": "stdout",
     "output_type": "stream",
     "text": [
      "000\n",
      "[0.+0.j 1.+0.j 0.+0.j 0.+0.j 0.+0.j 0.+0.j 0.+0.j 0.+0.j]\n",
      "[0.+0.j 0.+0.j 1.+0.j 0.+0.j 0.+0.j 0.+0.j 0.+0.j 0.+0.j]\n",
      "[0.+0.j 0.+0.j 0.+0.j 1.+0.j 0.+0.j 0.+0.j 0.+0.j 0.+0.j]\n",
      "[0.+0.j 0.+0.j 0.+0.j 0.+0.j 1.+0.j 0.+0.j 0.+0.j 0.+0.j]\n",
      "[0.+0.j 0.+0.j 0.+0.j 0.+0.j 0.+0.j 1.+0.j 0.+0.j 0.+0.j]\n",
      "[0.+0.j 0.+0.j 0.+0.j 0.+0.j 0.+0.j 0.+0.j 1.+0.j 0.+0.j]\n",
      "[0.+0.j 0.+0.j 0.+0.j 0.+0.j 0.+0.j 0.+0.j 0.+0.j 1.+0.j]\n",
      "[1.+0.j 0.+0.j 0.+0.j 0.+0.j 0.+0.j 0.+0.j 0.+0.j 0.+0.j]\n"
     ]
    },
    {
     "data": {
      "image/png": "[encoded data removed]",
      "text/plain": [
       "<Figure size 371.107x284.278 with 1 Axes>"
      ]
     },
     "execution_count": 29,
     "metadata": {},
     "output_type": "execute_result"
    }
   ],
   "source": [
    "qc3 = QuantumCircuit(3)\n",
    "\n",
    "qc3.ccx(0, 1, 2)\n",
    "qc3.cx(0, 1)\n",
    "qc3.x(0)\n",
    "\n",
    "initial_state = Statevector.from_label('000')\n",
    "print(max(initial_state.probabilities_dict(), key=initial_state.probabilities_dict().get))\n",
    "for _ in range(8):\n",
    "    final_state = initial_state.evolve(qc3)\n",
    "    print(final_state.data)\n",
    "    initial_state = final_state\n",
    "\n",
    "qc3.draw('mpl')"
   ]
  }
 ],
 "metadata": {
  "kernelspec": {
   "display_name": "cwq",
   "language": "python",
   "name": "python3"
  },
  "language_info": {
   "codemirror_mode": {
    "name": "ipython",
    "version": 3
   },
   "file_extension": ".py",
   "mimetype": "text/x-python",
   "name": "python",
   "nbconvert_exporter": "python",
   "pygments_lexer": "ipython3",
   "version": "3.13.5"
  }
 },
 "nbformat": 4,
 "nbformat_minor": 5
}
